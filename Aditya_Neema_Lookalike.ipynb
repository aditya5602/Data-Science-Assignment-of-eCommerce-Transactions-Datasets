{
 "cells": [
  {
   "cell_type": "code",
   "execution_count": 6,
   "id": "f57785a6",
   "metadata": {},
   "outputs": [
    {
     "name": "stdout",
     "output_type": "stream",
     "text": [
      "      Lookalike_1   Score_1 Lookalike_2   Score_2 Lookalike_3   Score_3\n",
      "C0001       C0137  0.950558       C0164  0.944220       C0069  0.924948\n",
      "C0002       C0029  0.999760       C0031  0.999000       C0094  0.993627\n",
      "C0003       C0176  0.883064       C0027  0.857059       C0010  0.821926\n",
      "C0004       C0075  0.997674       C0175  0.994176       C0113  0.991124\n",
      "C0005       C0058  0.999794       C0123  0.999700       C0015  0.999682\n"
     ]
    }
   ],
   "source": [
    "import pandas as pd\n",
    "import numpy as np\n",
    "from sklearn.preprocessing import StandardScaler\n",
    "from sklearn.metrics.pairwise import cosine_similarity\n",
    "\n",
    "customers_df = pd.read_csv('Customers.csv')\n",
    "products_df = pd.read_csv('Products.csv')\n",
    "transactions_df = pd.read_csv('Transactions.csv')\n",
    "\n",
    "customer_data = customers_df.merge(transactions_df, on='CustomerID', how='left')\n",
    "\n",
    "customer_data = customer_data.groupby('CustomerID').agg({\n",
    "    'Region': 'first',\n",
    "    'SignupDate': 'first',\n",
    "    'Quantity': 'sum',\n",
    "    'TotalValue': 'sum'\n",
    "}).reset_index()\n",
    "\n",
    "customer_data['NumProductsPurchased'] = transactions_df.groupby('CustomerID')['ProductID'].nunique().reset_index(drop=True)\n",
    "\n",
    "customer_features = customer_data[['Quantity', 'TotalValue', 'NumProductsPurchased']].astype(float)\n",
    "\n",
    "customer_features.fillna(0, inplace=True)  # Replace NaNs with 0\n",
    "\n",
    "scaler = StandardScaler()\n",
    "customer_features_scaled = scaler.fit_transform(customer_features)\n",
    "\n",
    "similarity_matrix = cosine_similarity(customer_features_scaled)\n",
    "similarity_df = pd.DataFrame(similarity_matrix, index=customer_data['CustomerID'], columns=customer_data['CustomerID'])\n",
    "\n",
    "def get_top_3_lookalikes(customer_id, similarity_df):\n",
    "    top_customers = similarity_df.loc[customer_id].nlargest(4)[1:]  # Exclude itself\n",
    "    return top_customers\n",
    "\n",
    "lookalike_recommendations = {}\n",
    "\n",
    "for customer_id in customer_data['CustomerID'].head(20):\n",
    "    top_3 = get_top_3_lookalikes(customer_id, similarity_df)\n",
    "\n",
    "    top_3_list = list(zip(top_3.index, top_3.values))\n",
    "    while len(top_3_list) < 3:\n",
    "        top_3_list.append((\"\", 0))\n",
    "\n",
    "    flattened_top_3 = [item for sublist in top_3_list for item in sublist]\n",
    "    lookalike_recommendations[customer_id] = flattened_top_3\n",
    "\n",
    "lookalike_df = pd.DataFrame.from_dict(lookalike_recommendations, orient='index')\n",
    "\n",
    "lookalike_df.columns = sum([[f'Lookalike_{i+1}', f'Score_{i+1}'] for i in range(lookalike_df.shape[1] // 2)], [])\n",
    "\n",
    "lookalike_df.to_csv('Lookalike.csv')\n",
    "\n",
    "print(lookalike_df.head())\n"
   ]
  },
  {
   "cell_type": "code",
   "execution_count": null,
   "id": "b1cfa7b0",
   "metadata": {},
   "outputs": [],
   "source": []
  }
 ],
 "metadata": {
  "kernelspec": {
   "display_name": "Python 3 (ipykernel)",
   "language": "python",
   "name": "python3"
  },
  "language_info": {
   "codemirror_mode": {
    "name": "ipython",
    "version": 3
   },
   "file_extension": ".py",
   "mimetype": "text/x-python",
   "name": "python",
   "nbconvert_exporter": "python",
   "pygments_lexer": "ipython3",
   "version": "3.11.4"
  }
 },
 "nbformat": 4,
 "nbformat_minor": 5
}
